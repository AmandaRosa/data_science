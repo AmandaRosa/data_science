{
 "metadata": {
  "language_info": {
   "codemirror_mode": {
    "name": "ipython",
    "version": 3
   },
   "file_extension": ".py",
   "mimetype": "text/x-python",
   "name": "python",
   "nbconvert_exporter": "python",
   "pygments_lexer": "ipython3",
   "version": "3.8.3-final"
  },
  "orig_nbformat": 2,
  "kernelspec": {
   "name": "python3",
   "display_name": "Python 3.8.3 64-bit ('base': conda)",
   "metadata": {
    "interpreter": {
     "hash": "319c24ade14b7873a3f936c1569cf8c1853592b8350107cb8f60c9b2a2771b37"
    }
   }
  }
 },
 "nbformat": 4,
 "nbformat_minor": 2,
 "cells": [
  {
   "cell_type": "code",
   "execution_count": null,
   "metadata": {},
   "outputs": [],
   "source": [
    "import sys\n",
    "import os\n",
    "sys.path.append(os.path.dirname(os.getcwd()))\n",
    "os.path.dirname(os.getcwd())"
   ]
  },
  {
   "cell_type": "code",
   "execution_count": null,
   "metadata": {},
   "outputs": [],
   "source": [
    "import numpy as np\n",
    "from data_science import CompareData\n",
    "from data_science.analysis_methodology import Cluster"
   ]
  },
  {
   "cell_type": "code",
   "execution_count": null,
   "metadata": {
    "tags": []
   },
   "outputs": [],
   "source": [
    "# load data (download https://1drv.ms/u/s!AuAnQXzLmsvjihFVtI28bX0y0OyW?e=dDug9Y)\n",
    "data = np.load(\n",
    "    \"data/TESTE01/RespNoiseFiveTEST01.npy\"\n",
    ")\n",
    "target = np.load(\"data/TESTE01/Targets.npy\")\n",
    "# get dt\n",
    "dt = data[1, 0] - data[0, 0]\n",
    "\n",
    "# remove time collum\n",
    "data = data[:, 1:]"
   ]
  },
  {
   "cell_type": "code",
   "execution_count": null,
   "metadata": {
    "tags": []
   },
   "outputs": [],
   "source": [
    "# # call and plot analisys\n",
    "\n",
    "clustering = Cluster(\n",
    "    nominal_rotation = int( 4500/60 ),\n",
    "    sub_slices = 256,\n",
    "    channels = { \n",
    "        0: [\"rms\", \"kurt\", \"pv\"],\n",
    "        0.5: [\"rms\", \"kurt\", \"pv\"],\n",
    "        1: [\"rms\", \"kurt\", \"pv\"],\n",
    "        2: [\"rms\", \"kurt\", \"pv\"],\n",
    "    },\n",
    "    clusterizer = 'gmm',\n",
    "    threshold = .525,\n",
    ")\n",
    "\n",
    "compare_test = CompareData(data, dt, clustering)\n"
   ]
  },
  {
   "cell_type": "code",
   "execution_count": null,
   "metadata": {},
   "outputs": [],
   "source": [
    "compare_test.plot(target=target)"
   ]
  }
 ]
}